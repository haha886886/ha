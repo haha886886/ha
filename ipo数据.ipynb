{
 "cells": [
  {
   "cell_type": "code",
   "execution_count": 3,
   "id": "309c6d1f",
   "metadata": {},
   "outputs": [],
   "source": [
    "import tushare as ts\n",
    "import pandas as pd\n",
    "import time\n",
    "import numpy as np\n",
    "#导入数据所需库"
   ]
  },
  {
   "cell_type": "code",
   "execution_count": 4,
   "id": "cb2a7c18",
   "metadata": {},
   "outputs": [],
   "source": [
    "token= '5d2773294dea485e06d949f132e3cf6a620a83fc3b46ee08a03b007d'\n",
    "ts.set_token(token)\n",
    "pro = ts.pro_api(token)\n",
    "#输入跟数据库链接的token"
   ]
  },
  {
   "cell_type": "code",
   "execution_count": 5,
   "id": "74643b2b",
   "metadata": {},
   "outputs": [],
   "source": [
    "df = pro.new_share(start_date='20210109', end_date='20240109')\n",
    "#输入数据时间段"
   ]
  },
  {
   "cell_type": "code",
   "execution_count": 10,
   "id": "763b2d1d",
   "metadata": {},
   "outputs": [],
   "source": [
    "df.to_excel(\"ipo数据.xlsx\")\n",
    "#保存数据"
   ]
  }
 ],
 "metadata": {
  "kernelspec": {
   "display_name": "Python 3 (ipykernel)",
   "language": "python",
   "name": "python3"
  },
  "language_info": {
   "codemirror_mode": {
    "name": "ipython",
    "version": 3
   },
   "file_extension": ".py",
   "mimetype": "text/x-python",
   "name": "python",
   "nbconvert_exporter": "python",
   "pygments_lexer": "ipython3",
   "version": "3.9.13"
  }
 },
 "nbformat": 4,
 "nbformat_minor": 5
}
